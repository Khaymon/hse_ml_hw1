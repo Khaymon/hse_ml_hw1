{
 "cells": [
  {
   "cell_type": "code",
   "execution_count": 1,
   "metadata": {},
   "outputs": [],
   "source": [
    "import pandas as pd\n",
    "import typing as T"
   ]
  },
  {
   "cell_type": "code",
   "execution_count": 2,
   "metadata": {},
   "outputs": [],
   "source": [
    "TRAIN_PATH = \"/home/khaymonenko/hse_ml/data/raw/train.csv\"\n",
    "TEST_PATH = \"/home/khaymonenko/hse_ml/data/raw/test.csv\"\n",
    "\n",
    "train = pd.read_csv(TRAIN_PATH)\n",
    "test = pd.read_csv(TEST_PATH)"
   ]
  },
  {
   "cell_type": "code",
   "execution_count": 8,
   "metadata": {},
   "outputs": [
    {
     "data": {
      "text/html": [
       "<div>\n",
       "<style scoped>\n",
       "    .dataframe tbody tr th:only-of-type {\n",
       "        vertical-align: middle;\n",
       "    }\n",
       "\n",
       "    .dataframe tbody tr th {\n",
       "        vertical-align: top;\n",
       "    }\n",
       "\n",
       "    .dataframe thead th {\n",
       "        text-align: right;\n",
       "    }\n",
       "</style>\n",
       "<table border=\"1\" class=\"dataframe\">\n",
       "  <thead>\n",
       "    <tr style=\"text-align: right;\">\n",
       "      <th></th>\n",
       "      <th>Name</th>\n",
       "      <th>SexuponOutcome</th>\n",
       "      <th>AnimalType</th>\n",
       "      <th>AgeuponOutcome</th>\n",
       "      <th>Breed</th>\n",
       "      <th>Color</th>\n",
       "      <th>DateTime</th>\n",
       "      <th>Outcome</th>\n",
       "      <th>ID</th>\n",
       "    </tr>\n",
       "  </thead>\n",
       "  <tbody>\n",
       "    <tr>\n",
       "      <th>14439</th>\n",
       "      <td>NaN</td>\n",
       "      <td>Spayed Female</td>\n",
       "      <td>Cat</td>\n",
       "      <td>3 months</td>\n",
       "      <td>Domestic Shorthair Mix</td>\n",
       "      <td>Brown Tabby</td>\n",
       "      <td>2014-07-07 19:05:00</td>\n",
       "      <td>0</td>\n",
       "      <td>14439</td>\n",
       "    </tr>\n",
       "    <tr>\n",
       "      <th>11344</th>\n",
       "      <td>Frenchie</td>\n",
       "      <td>Spayed Female</td>\n",
       "      <td>Cat</td>\n",
       "      <td>2 months</td>\n",
       "      <td>Domestic Shorthair Mix</td>\n",
       "      <td>Black/White</td>\n",
       "      <td>2013-11-24 17:25:00</td>\n",
       "      <td>0</td>\n",
       "      <td>11344</td>\n",
       "    </tr>\n",
       "    <tr>\n",
       "      <th>2918</th>\n",
       "      <td>NaN</td>\n",
       "      <td>Intact Female</td>\n",
       "      <td>Cat</td>\n",
       "      <td>2 years</td>\n",
       "      <td>Domestic Shorthair Mix</td>\n",
       "      <td>Blue Tabby/White</td>\n",
       "      <td>2014-06-08 12:19:00</td>\n",
       "      <td>4</td>\n",
       "      <td>2918</td>\n",
       "    </tr>\n",
       "    <tr>\n",
       "      <th>7813</th>\n",
       "      <td>NaN</td>\n",
       "      <td>Intact Female</td>\n",
       "      <td>Cat</td>\n",
       "      <td>3 weeks</td>\n",
       "      <td>Domestic Longhair Mix</td>\n",
       "      <td>Calico</td>\n",
       "      <td>2014-09-23 13:22:00</td>\n",
       "      <td>1</td>\n",
       "      <td>7813</td>\n",
       "    </tr>\n",
       "    <tr>\n",
       "      <th>9281</th>\n",
       "      <td>Banjo</td>\n",
       "      <td>Intact Male</td>\n",
       "      <td>Dog</td>\n",
       "      <td>4 years</td>\n",
       "      <td>Blue Lacy Mix</td>\n",
       "      <td>Blue/White</td>\n",
       "      <td>2015-05-21 11:07:00</td>\n",
       "      <td>2</td>\n",
       "      <td>9281</td>\n",
       "    </tr>\n",
       "  </tbody>\n",
       "</table>\n",
       "</div>"
      ],
      "text/plain": [
       "           Name SexuponOutcome AnimalType AgeuponOutcome  \\\n",
       "14439       NaN  Spayed Female        Cat       3 months   \n",
       "11344  Frenchie  Spayed Female        Cat       2 months   \n",
       "2918        NaN  Intact Female        Cat        2 years   \n",
       "7813        NaN  Intact Female        Cat        3 weeks   \n",
       "9281      Banjo    Intact Male        Dog        4 years   \n",
       "\n",
       "                        Breed             Color             DateTime  Outcome  \\\n",
       "14439  Domestic Shorthair Mix       Brown Tabby  2014-07-07 19:05:00        0   \n",
       "11344  Domestic Shorthair Mix       Black/White  2013-11-24 17:25:00        0   \n",
       "2918   Domestic Shorthair Mix  Blue Tabby/White  2014-06-08 12:19:00        4   \n",
       "7813    Domestic Longhair Mix            Calico  2014-09-23 13:22:00        1   \n",
       "9281            Blue Lacy Mix        Blue/White  2015-05-21 11:07:00        2   \n",
       "\n",
       "          ID  \n",
       "14439  14439  \n",
       "11344  11344  \n",
       "2918    2918  \n",
       "7813    7813  \n",
       "9281    9281  "
      ]
     },
     "metadata": {},
     "output_type": "display_data"
    },
    {
     "data": {
      "text/html": [
       "<div>\n",
       "<style scoped>\n",
       "    .dataframe tbody tr th:only-of-type {\n",
       "        vertical-align: middle;\n",
       "    }\n",
       "\n",
       "    .dataframe tbody tr th {\n",
       "        vertical-align: top;\n",
       "    }\n",
       "\n",
       "    .dataframe thead th {\n",
       "        text-align: right;\n",
       "    }\n",
       "</style>\n",
       "<table border=\"1\" class=\"dataframe\">\n",
       "  <thead>\n",
       "    <tr style=\"text-align: right;\">\n",
       "      <th></th>\n",
       "      <th>Name</th>\n",
       "      <th>SexuponOutcome</th>\n",
       "      <th>AnimalType</th>\n",
       "      <th>AgeuponOutcome</th>\n",
       "      <th>Breed</th>\n",
       "      <th>Color</th>\n",
       "      <th>DateTime</th>\n",
       "      <th>ID</th>\n",
       "    </tr>\n",
       "  </thead>\n",
       "  <tbody>\n",
       "    <tr>\n",
       "      <th>7553</th>\n",
       "      <td>Diamond</td>\n",
       "      <td>Spayed Female</td>\n",
       "      <td>Dog</td>\n",
       "      <td>6 years</td>\n",
       "      <td>Chihuahua Shorthair Mix</td>\n",
       "      <td>Tricolor</td>\n",
       "      <td>2014-05-31 19:22:00</td>\n",
       "      <td>7553</td>\n",
       "    </tr>\n",
       "    <tr>\n",
       "      <th>2106</th>\n",
       "      <td>NaN</td>\n",
       "      <td>Neutered Male</td>\n",
       "      <td>Cat</td>\n",
       "      <td>3 months</td>\n",
       "      <td>Domestic Shorthair Mix</td>\n",
       "      <td>Blue Tabby/White</td>\n",
       "      <td>2015-08-16 19:18:00</td>\n",
       "      <td>2106</td>\n",
       "    </tr>\n",
       "    <tr>\n",
       "      <th>1512</th>\n",
       "      <td>Freddy</td>\n",
       "      <td>Neutered Male</td>\n",
       "      <td>Dog</td>\n",
       "      <td>1 year</td>\n",
       "      <td>Dachshund/Beagle</td>\n",
       "      <td>Tan/White</td>\n",
       "      <td>2015-02-12 18:20:00</td>\n",
       "      <td>1512</td>\n",
       "    </tr>\n",
       "    <tr>\n",
       "      <th>2463</th>\n",
       "      <td>Chloe</td>\n",
       "      <td>Spayed Female</td>\n",
       "      <td>Dog</td>\n",
       "      <td>3 years</td>\n",
       "      <td>Labrador Retriever Mix</td>\n",
       "      <td>Brown/White</td>\n",
       "      <td>2014-03-26 09:53:00</td>\n",
       "      <td>2463</td>\n",
       "    </tr>\n",
       "    <tr>\n",
       "      <th>5183</th>\n",
       "      <td>Nooli</td>\n",
       "      <td>Neutered Male</td>\n",
       "      <td>Dog</td>\n",
       "      <td>5 years</td>\n",
       "      <td>Silky Terrier Mix</td>\n",
       "      <td>Buff</td>\n",
       "      <td>2014-09-23 12:47:00</td>\n",
       "      <td>5183</td>\n",
       "    </tr>\n",
       "  </tbody>\n",
       "</table>\n",
       "</div>"
      ],
      "text/plain": [
       "         Name SexuponOutcome AnimalType AgeuponOutcome  \\\n",
       "7553  Diamond  Spayed Female        Dog        6 years   \n",
       "2106      NaN  Neutered Male        Cat       3 months   \n",
       "1512   Freddy  Neutered Male        Dog         1 year   \n",
       "2463    Chloe  Spayed Female        Dog        3 years   \n",
       "5183    Nooli  Neutered Male        Dog        5 years   \n",
       "\n",
       "                        Breed             Color             DateTime    ID  \n",
       "7553  Chihuahua Shorthair Mix          Tricolor  2014-05-31 19:22:00  7553  \n",
       "2106   Domestic Shorthair Mix  Blue Tabby/White  2015-08-16 19:18:00  2106  \n",
       "1512         Dachshund/Beagle         Tan/White  2015-02-12 18:20:00  1512  \n",
       "2463   Labrador Retriever Mix       Brown/White  2014-03-26 09:53:00  2463  \n",
       "5183        Silky Terrier Mix              Buff  2014-09-23 12:47:00  5183  "
      ]
     },
     "metadata": {},
     "output_type": "display_data"
    }
   ],
   "source": [
    "display(train.sample(5))\n",
    "display(test.sample(5))"
   ]
  },
  {
   "cell_type": "markdown",
   "metadata": {},
   "source": [
    "## Missed values"
   ]
  },
  {
   "cell_type": "code",
   "execution_count": 9,
   "metadata": {},
   "outputs": [
    {
     "data": {
      "text/plain": [
       "Name              5425\n",
       "SexuponOutcome       1\n",
       "AnimalType           0\n",
       "AgeuponOutcome      14\n",
       "Breed                0\n",
       "Color                0\n",
       "DateTime             0\n",
       "Outcome              0\n",
       "ID                   0\n",
       "dtype: int64"
      ]
     },
     "execution_count": 9,
     "metadata": {},
     "output_type": "execute_result"
    }
   ],
   "source": [
    "train.isna().sum()"
   ]
  },
  {
   "cell_type": "code",
   "execution_count": 10,
   "metadata": {},
   "outputs": [
    {
     "data": {
      "text/plain": [
       "Name              2266\n",
       "SexuponOutcome       0\n",
       "AnimalType           0\n",
       "AgeuponOutcome       4\n",
       "Breed                0\n",
       "Color                0\n",
       "DateTime             0\n",
       "ID                   0\n",
       "dtype: int64"
      ]
     },
     "execution_count": 10,
     "metadata": {},
     "output_type": "execute_result"
    }
   ],
   "source": [
    "test.isna().sum()"
   ]
  },
  {
   "cell_type": "markdown",
   "metadata": {},
   "source": [
    "## Values"
   ]
  },
  {
   "cell_type": "code",
   "execution_count": 13,
   "metadata": {},
   "outputs": [],
   "source": [
    "from datetime import datetime"
   ]
  },
  {
   "cell_type": "code",
   "execution_count": 15,
   "metadata": {},
   "outputs": [],
   "source": [
    "dates = train[\"DateTime\"].apply(datetime.fromisoformat)"
   ]
  },
  {
   "cell_type": "code",
   "execution_count": 18,
   "metadata": {},
   "outputs": [
    {
     "data": {
      "text/plain": [
       "0        2\n",
       "1        4\n",
       "2        5\n",
       "3        2\n",
       "4        0\n",
       "        ..\n",
       "18705    1\n",
       "18706    0\n",
       "18707    4\n",
       "18708    6\n",
       "18709    1\n",
       "Name: DateTime, Length: 18710, dtype: int32"
      ]
     },
     "execution_count": 18,
     "metadata": {},
     "output_type": "execute_result"
    }
   ],
   "source": [
    "dates.dt."
   ]
  },
  {
   "cell_type": "code",
   "execution_count": 6,
   "metadata": {},
   "outputs": [
    {
     "data": {
      "text/plain": [
       "SexuponOutcome\n",
       "Neutered Male    6802\n",
       "Spayed Female    6223\n",
       "Intact Female    2466\n",
       "Intact Male      2438\n",
       "Unknown           780\n",
       "Name: count, dtype: int64"
      ]
     },
     "metadata": {},
     "output_type": "display_data"
    },
    {
     "data": {
      "text/plain": [
       "SexuponOutcome\n",
       "Neutered Male    2977\n",
       "Spayed Female    2597\n",
       "Intact Male      1087\n",
       "Intact Female    1045\n",
       "Unknown           313\n",
       "Name: count, dtype: int64"
      ]
     },
     "metadata": {},
     "output_type": "display_data"
    }
   ],
   "source": [
    "display(train[\"SexuponOutcome\"].value_counts())\n",
    "display(test[\"SexuponOutcome\"].value_counts())"
   ]
  },
  {
   "cell_type": "code",
   "execution_count": 7,
   "metadata": {},
   "outputs": [
    {
     "data": {
      "text/plain": [
       "AnimalType\n",
       "Dog    10936\n",
       "Cat     7774\n",
       "Name: count, dtype: int64"
      ]
     },
     "metadata": {},
     "output_type": "display_data"
    },
    {
     "data": {
      "text/plain": [
       "AnimalType\n",
       "Dog    4659\n",
       "Cat    3360\n",
       "Name: count, dtype: int64"
      ]
     },
     "metadata": {},
     "output_type": "display_data"
    }
   ],
   "source": [
    "display(train[\"AnimalType\"].value_counts())\n",
    "display(test[\"AnimalType\"].value_counts())"
   ]
  },
  {
   "cell_type": "markdown",
   "metadata": {},
   "source": [
    "## Lengths of AgeuponOutcome"
   ]
  },
  {
   "cell_type": "code",
   "execution_count": 8,
   "metadata": {},
   "outputs": [
    {
     "data": {
      "text/plain": [
       "2926     3 years\n",
       "7975     2 years\n",
       "4739     1 month\n",
       "13192    3 weeks\n",
       "9608     4 years\n",
       "Name: AgeuponOutcome, dtype: object"
      ]
     },
     "execution_count": 8,
     "metadata": {},
     "output_type": "execute_result"
    }
   ],
   "source": [
    "train[\"AgeuponOutcome\"].sample(n=5)"
   ]
  },
  {
   "cell_type": "code",
   "execution_count": 9,
   "metadata": {},
   "outputs": [
    {
     "name": "stdout",
     "output_type": "stream",
     "text": [
      "9\n",
      "9\n"
     ]
    }
   ],
   "source": [
    "print(train[\"AgeuponOutcome\"].dropna().apply(len).max())\n",
    "print(test[\"AgeuponOutcome\"].dropna().apply(len).max())"
   ]
  },
  {
   "cell_type": "code",
   "execution_count": 10,
   "metadata": {},
   "outputs": [],
   "source": [
    "def age_to_days(age_str: str) -> int:\n",
    "    if not age_str:\n",
    "        return 0\n",
    "\n",
    "    amount, interval = age_str.split()\n",
    "\n",
    "    if \"month\" in interval:\n",
    "        return int(amount) * 30\n",
    "    elif \"year\" in interval:\n",
    "        return int(amount) * 365\n",
    "    elif \"week\" in interval:\n",
    "        return int(amount) * 7\n",
    "    elif \"day\" in interval:\n",
    "        return int(amount)\n",
    "    \n",
    "    raise ValueError(f\"Interval {interval} is unknown\")"
   ]
  },
  {
   "cell_type": "code",
   "execution_count": 11,
   "metadata": {},
   "outputs": [
    {
     "data": {
      "text/html": [
       "<div>\n",
       "<style scoped>\n",
       "    .dataframe tbody tr th:only-of-type {\n",
       "        vertical-align: middle;\n",
       "    }\n",
       "\n",
       "    .dataframe tbody tr th {\n",
       "        vertical-align: top;\n",
       "    }\n",
       "\n",
       "    .dataframe thead th {\n",
       "        text-align: right;\n",
       "    }\n",
       "</style>\n",
       "<table border=\"1\" class=\"dataframe\">\n",
       "  <thead>\n",
       "    <tr style=\"text-align: right;\">\n",
       "      <th></th>\n",
       "      <th>DaysUponOutcome</th>\n",
       "      <th>AgeuponOutcome</th>\n",
       "    </tr>\n",
       "  </thead>\n",
       "  <tbody>\n",
       "    <tr>\n",
       "      <th>0</th>\n",
       "      <td>60</td>\n",
       "      <td>2 months</td>\n",
       "    </tr>\n",
       "    <tr>\n",
       "      <th>1</th>\n",
       "      <td>30</td>\n",
       "      <td>1 month</td>\n",
       "    </tr>\n",
       "    <tr>\n",
       "      <th>2</th>\n",
       "      <td>90</td>\n",
       "      <td>3 months</td>\n",
       "    </tr>\n",
       "    <tr>\n",
       "      <th>3</th>\n",
       "      <td>730</td>\n",
       "      <td>2 years</td>\n",
       "    </tr>\n",
       "    <tr>\n",
       "      <th>4</th>\n",
       "      <td>60</td>\n",
       "      <td>2 months</td>\n",
       "    </tr>\n",
       "    <tr>\n",
       "      <th>...</th>\n",
       "      <td>...</td>\n",
       "      <td>...</td>\n",
       "    </tr>\n",
       "    <tr>\n",
       "      <th>18705</th>\n",
       "      <td>210</td>\n",
       "      <td>7 months</td>\n",
       "    </tr>\n",
       "    <tr>\n",
       "      <th>18706</th>\n",
       "      <td>90</td>\n",
       "      <td>3 months</td>\n",
       "    </tr>\n",
       "    <tr>\n",
       "      <th>18707</th>\n",
       "      <td>730</td>\n",
       "      <td>2 years</td>\n",
       "    </tr>\n",
       "    <tr>\n",
       "      <th>18708</th>\n",
       "      <td>730</td>\n",
       "      <td>2 years</td>\n",
       "    </tr>\n",
       "    <tr>\n",
       "      <th>18709</th>\n",
       "      <td>60</td>\n",
       "      <td>2 months</td>\n",
       "    </tr>\n",
       "  </tbody>\n",
       "</table>\n",
       "<p>18710 rows × 2 columns</p>\n",
       "</div>"
      ],
      "text/plain": [
       "       DaysUponOutcome AgeuponOutcome\n",
       "0                   60       2 months\n",
       "1                   30        1 month\n",
       "2                   90       3 months\n",
       "3                  730        2 years\n",
       "4                   60       2 months\n",
       "...                ...            ...\n",
       "18705              210       7 months\n",
       "18706               90       3 months\n",
       "18707              730        2 years\n",
       "18708              730        2 years\n",
       "18709               60       2 months\n",
       "\n",
       "[18710 rows x 2 columns]"
      ]
     },
     "execution_count": 11,
     "metadata": {},
     "output_type": "execute_result"
    }
   ],
   "source": [
    "train[\"DaysUponOutcome\"] = train[\"AgeuponOutcome\"].fillna('').apply(age_to_days)\n",
    "train[[\"DaysUponOutcome\", \"AgeuponOutcome\"]]"
   ]
  },
  {
   "cell_type": "markdown",
   "metadata": {},
   "source": [
    "## Breed"
   ]
  },
  {
   "cell_type": "code",
   "execution_count": 12,
   "metadata": {},
   "outputs": [
    {
     "data": {
      "text/plain": [
       "Breed\n",
       "Domestic Shorthair Mix            6153\n",
       "Pit Bull Mix                      1318\n",
       "Chihuahua Shorthair Mix           1225\n",
       "Labrador Retriever Mix             984\n",
       "Domestic Medium Hair Mix           590\n",
       "                                  ... \n",
       "Cairn Terrier/Miniature Poodle       1\n",
       "Jack Russell Terrier/Pointer         1\n",
       "Whippet/Australian Kelpie            1\n",
       "Miniature Schnauzer/Shih Tzu         1\n",
       "Great Dane/Pit Bull                  1\n",
       "Name: count, Length: 1145, dtype: int64"
      ]
     },
     "metadata": {},
     "output_type": "display_data"
    },
    {
     "data": {
      "text/plain": [
       "Breed\n",
       "Domestic Shorthair Mix                          2657\n",
       "Pit Bull Mix                                     588\n",
       "Chihuahua Shorthair Mix                          541\n",
       "Labrador Retriever Mix                           379\n",
       "Domestic Medium Hair Mix                         249\n",
       "                                                ... \n",
       "Siberian Husky/Anatol Shepherd                     1\n",
       "Whippet/Chihuahua Shorthair                        1\n",
       "Australian Cattle Dog/Parson Russell Terrier       1\n",
       "Dachshund/Jack Russell Terrier                     1\n",
       "Pit Bull/Queensland Heeler                         1\n",
       "Name: count, Length: 752, dtype: int64"
      ]
     },
     "metadata": {},
     "output_type": "display_data"
    }
   ],
   "source": [
    "display(train[\"Breed\"].value_counts())\n",
    "display(test[\"Breed\"].value_counts())"
   ]
  },
  {
   "cell_type": "markdown",
   "metadata": {},
   "source": [
    "## Color"
   ]
  },
  {
   "cell_type": "code",
   "execution_count": 13,
   "metadata": {},
   "outputs": [
    {
     "data": {
      "text/plain": [
       "Color\n",
       "Black/White                1955\n",
       "Black                      1594\n",
       "Brown Tabby                1122\n",
       "Brown Tabby/White           680\n",
       "White                       649\n",
       "                           ... \n",
       "Tricolor/Calico               1\n",
       "Blue Tabby/Orange             1\n",
       "Black Smoke/Brown Tabby       1\n",
       "Lynx Point/Brown Tabby        1\n",
       "Liver Tick/White              1\n",
       "Name: count, Length: 326, dtype: int64"
      ]
     },
     "metadata": {},
     "output_type": "display_data"
    },
    {
     "data": {
      "text/plain": [
       "Color\n",
       "Black/White            869\n",
       "Black                  698\n",
       "Brown Tabby            513\n",
       "White                  282\n",
       "Brown/White            262\n",
       "                      ... \n",
       "Blue/Black               1\n",
       "Black Brindle/Black      1\n",
       "Blue Tick/Brown          1\n",
       "Tan/Brown Merle          1\n",
       "Yellow Brindle/Blue      1\n",
       "Name: count, Length: 245, dtype: int64"
      ]
     },
     "metadata": {},
     "output_type": "display_data"
    }
   ],
   "source": [
    "display(train[\"Color\"].value_counts())\n",
    "display(test[\"Color\"].value_counts())"
   ]
  },
  {
   "cell_type": "markdown",
   "metadata": {},
   "source": [
    "## Datetime"
   ]
  },
  {
   "cell_type": "code",
   "execution_count": 50,
   "metadata": {},
   "outputs": [],
   "source": [
    "import matplotlib.pyplot as plt"
   ]
  },
  {
   "cell_type": "code",
   "execution_count": 53,
   "metadata": {},
   "outputs": [
    {
     "data": {
      "image/png": "[encoded data removed]",
      "text/plain": [
       "<Figure size 1200x800 with 1 Axes>"
      ]
     },
     "metadata": {},
     "output_type": "display_data"
    }
   ],
   "source": [
    "plt.figure(figsize=(12, 8))\n",
    "\n",
    "plt.hist(train[\"DateTime\"])\n",
    "\n",
    "plt.xlabel(\"Arrival\", fontsize=16)\n",
    "plt.ylabel(\"Count\", fontsize=16)\n",
    "\n",
    "plt.grid()\n",
    "plt.show()"
   ]
  },
  {
   "cell_type": "code",
   "execution_count": 54,
   "metadata": {},
   "outputs": [
    {
     "data": {
      "image/png": "[encoded data removed]",
      "text/plain": [
       "<Figure size 1200x800 with 1 Axes>"
      ]
     },
     "metadata": {},
     "output_type": "display_data"
    }
   ],
   "source": [
    "plt.figure(figsize=(12, 8))\n",
    "\n",
    "plt.hist(test[\"DateTime\"])\n",
    "\n",
    "plt.xlabel(\"Arrival\", fontsize=16)\n",
    "plt.ylabel(\"Count\", fontsize=16)\n",
    "\n",
    "plt.grid()\n",
    "plt.show()"
   ]
  },
  {
   "cell_type": "markdown",
   "metadata": {},
   "source": [
    "## Labels distribution"
   ]
  },
  {
   "cell_type": "code",
   "execution_count": 62,
   "metadata": {},
   "outputs": [
    {
     "data": {
      "text/plain": [
       "Outcome\n",
       "0    7538\n",
       "1    6595\n",
       "2    3350\n",
       "3    1089\n",
       "4     138\n",
       "Name: count, dtype: int64"
      ]
     },
     "execution_count": 62,
     "metadata": {},
     "output_type": "execute_result"
    }
   ],
   "source": [
    "train[\"Outcome\"].value_counts()"
   ]
  }
 ],
 "metadata": {
  "kernelspec": {
   "display_name": "Python 3",
   "language": "python",
   "name": "python3"
  },
  "language_info": {
   "codemirror_mode": {
    "name": "ipython",
    "version": 3
   },
   "file_extension": ".py",
   "mimetype": "text/x-python",
   "name": "python",
   "nbconvert_exporter": "python",
   "pygments_lexer": "ipython3",
   "version": "3.10.12"
  }
 },
 "nbformat": 4,
 "nbformat_minor": 2
}
